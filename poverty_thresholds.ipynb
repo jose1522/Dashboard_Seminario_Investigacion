{
 "cells": [
  {
   "cell_type": "code",
   "execution_count": 2,
   "id": "prepared-nirvana",
   "metadata": {},
   "outputs": [],
   "source": [
    "import pandas as pd"
   ]
  },
  {
   "cell_type": "code",
   "execution_count": 65,
   "id": "entitled-virgin",
   "metadata": {},
   "outputs": [],
   "source": [
    "df = pd.read_csv(\"./data/raw/poverty_thresholds.csv\")"
   ]
  },
  {
   "cell_type": "code",
   "execution_count": 66,
   "id": "amateur-responsibility",
   "metadata": {},
   "outputs": [],
   "source": [
    "df[\"Year\"] = df[\"Year\"].apply(lambda x: int(x/10)*10)"
   ]
  },
  {
   "cell_type": "code",
   "execution_count": 67,
   "id": "handed-deficit",
   "metadata": {},
   "outputs": [],
   "source": [
    "df = df.groupby(['Entity','Year']).sum()"
   ]
  },
  {
   "cell_type": "code",
   "execution_count": 68,
   "id": "given-hardware",
   "metadata": {},
   "outputs": [
    {
     "data": {
      "text/html": [
       "<div>\n",
       "<style scoped>\n",
       "    .dataframe tbody tr th:only-of-type {\n",
       "        vertical-align: middle;\n",
       "    }\n",
       "\n",
       "    .dataframe tbody tr th {\n",
       "        vertical-align: top;\n",
       "    }\n",
       "\n",
       "    .dataframe thead th {\n",
       "        text-align: right;\n",
       "    }\n",
       "</style>\n",
       "<table border=\"1\" class=\"dataframe\">\n",
       "  <thead>\n",
       "    <tr style=\"text-align: right;\">\n",
       "      <th></th>\n",
       "      <th></th>\n",
       "      <th>below 1.90$ a day</th>\n",
       "      <th>1.9 - 3.20$ a day</th>\n",
       "      <th>3.20 - 5.50$ a day</th>\n",
       "      <th>5.50 - 10$ a day</th>\n",
       "      <th>above 10$ a day</th>\n",
       "    </tr>\n",
       "    <tr>\n",
       "      <th>Entity</th>\n",
       "      <th>Year</th>\n",
       "      <th></th>\n",
       "      <th></th>\n",
       "      <th></th>\n",
       "      <th></th>\n",
       "      <th></th>\n",
       "    </tr>\n",
       "  </thead>\n",
       "  <tbody>\n",
       "    <tr>\n",
       "      <th rowspan=\"4\" valign=\"top\">East Asia and Pacific</th>\n",
       "      <th>1980</th>\n",
       "      <td>3031.770019</td>\n",
       "      <td>899.469970</td>\n",
       "      <td>282.370000</td>\n",
       "      <td>95.569946</td>\n",
       "      <td>48.860069</td>\n",
       "    </tr>\n",
       "    <tr>\n",
       "      <th>1990</th>\n",
       "      <td>3286.170044</td>\n",
       "      <td>1842.059940</td>\n",
       "      <td>1074.540050</td>\n",
       "      <td>425.349979</td>\n",
       "      <td>187.190012</td>\n",
       "    </tr>\n",
       "    <tr>\n",
       "      <th>2000</th>\n",
       "      <td>1204.160034</td>\n",
       "      <td>1436.589970</td>\n",
       "      <td>1427.239990</td>\n",
       "      <td>1040.920040</td>\n",
       "      <td>574.529950</td>\n",
       "    </tr>\n",
       "    <tr>\n",
       "      <th>2010</th>\n",
       "      <td>654.759994</td>\n",
       "      <td>1549.719950</td>\n",
       "      <td>2465.939880</td>\n",
       "      <td>2766.590270</td>\n",
       "      <td>2552.089810</td>\n",
       "    </tr>\n",
       "    <tr>\n",
       "      <th>Europe and Central Asia</th>\n",
       "      <th>1990</th>\n",
       "      <td>95.760000</td>\n",
       "      <td>168.170002</td>\n",
       "      <td>313.089992</td>\n",
       "      <td>403.110050</td>\n",
       "      <td>430.289960</td>\n",
       "    </tr>\n",
       "  </tbody>\n",
       "</table>\n",
       "</div>"
      ],
      "text/plain": [
       "                              below 1.90$ a day  1.9 - 3.20$ a day  \\\n",
       "Entity                  Year                                         \n",
       "East Asia and Pacific   1980        3031.770019         899.469970   \n",
       "                        1990        3286.170044        1842.059940   \n",
       "                        2000        1204.160034        1436.589970   \n",
       "                        2010         654.759994        1549.719950   \n",
       "Europe and Central Asia 1990          95.760000         168.170002   \n",
       "\n",
       "                              3.20 - 5.50$ a day  5.50 - 10$ a day  \\\n",
       "Entity                  Year                                         \n",
       "East Asia and Pacific   1980          282.370000         95.569946   \n",
       "                        1990         1074.540050        425.349979   \n",
       "                        2000         1427.239990       1040.920040   \n",
       "                        2010         2465.939880       2766.590270   \n",
       "Europe and Central Asia 1990          313.089992        403.110050   \n",
       "\n",
       "                              above 10$ a day  \n",
       "Entity                  Year                   \n",
       "East Asia and Pacific   1980        48.860069  \n",
       "                        1990       187.190012  \n",
       "                        2000       574.529950  \n",
       "                        2010      2552.089810  \n",
       "Europe and Central Asia 1990       430.289960  "
      ]
     },
     "execution_count": 68,
     "metadata": {},
     "output_type": "execute_result"
    }
   ],
   "source": [
    "df.head()"
   ]
  },
  {
   "cell_type": "code",
   "execution_count": 69,
   "id": "useful-admission",
   "metadata": {},
   "outputs": [],
   "source": [
    "df[\"total\"] = df.iloc[:, 0:5].sum(axis=1)"
   ]
  },
  {
   "cell_type": "code",
   "execution_count": 70,
   "id": "directed-anthony",
   "metadata": {},
   "outputs": [
    {
     "data": {
      "text/html": [
       "<div>\n",
       "<style scoped>\n",
       "    .dataframe tbody tr th:only-of-type {\n",
       "        vertical-align: middle;\n",
       "    }\n",
       "\n",
       "    .dataframe tbody tr th {\n",
       "        vertical-align: top;\n",
       "    }\n",
       "\n",
       "    .dataframe thead th {\n",
       "        text-align: right;\n",
       "    }\n",
       "</style>\n",
       "<table border=\"1\" class=\"dataframe\">\n",
       "  <thead>\n",
       "    <tr style=\"text-align: right;\">\n",
       "      <th></th>\n",
       "      <th></th>\n",
       "      <th>below 1.90$ a day</th>\n",
       "      <th>1.9 - 3.20$ a day</th>\n",
       "      <th>3.20 - 5.50$ a day</th>\n",
       "      <th>5.50 - 10$ a day</th>\n",
       "      <th>above 10$ a day</th>\n",
       "      <th>total</th>\n",
       "    </tr>\n",
       "    <tr>\n",
       "      <th>Entity</th>\n",
       "      <th>Year</th>\n",
       "      <th></th>\n",
       "      <th></th>\n",
       "      <th></th>\n",
       "      <th></th>\n",
       "      <th></th>\n",
       "      <th></th>\n",
       "    </tr>\n",
       "  </thead>\n",
       "  <tbody>\n",
       "    <tr>\n",
       "      <th rowspan=\"4\" valign=\"top\">East Asia and Pacific</th>\n",
       "      <th>1980</th>\n",
       "      <td>3031.770019</td>\n",
       "      <td>899.469970</td>\n",
       "      <td>282.370000</td>\n",
       "      <td>95.569946</td>\n",
       "      <td>48.860069</td>\n",
       "      <td>4358.040004</td>\n",
       "    </tr>\n",
       "    <tr>\n",
       "      <th>1990</th>\n",
       "      <td>3286.170044</td>\n",
       "      <td>1842.059940</td>\n",
       "      <td>1074.540050</td>\n",
       "      <td>425.349979</td>\n",
       "      <td>187.190012</td>\n",
       "      <td>6815.310025</td>\n",
       "    </tr>\n",
       "    <tr>\n",
       "      <th>2000</th>\n",
       "      <td>1204.160034</td>\n",
       "      <td>1436.589970</td>\n",
       "      <td>1427.239990</td>\n",
       "      <td>1040.920040</td>\n",
       "      <td>574.529950</td>\n",
       "      <td>5683.439984</td>\n",
       "    </tr>\n",
       "    <tr>\n",
       "      <th>2010</th>\n",
       "      <td>654.759994</td>\n",
       "      <td>1549.719950</td>\n",
       "      <td>2465.939880</td>\n",
       "      <td>2766.590270</td>\n",
       "      <td>2552.089810</td>\n",
       "      <td>9989.099904</td>\n",
       "    </tr>\n",
       "    <tr>\n",
       "      <th>Europe and Central Asia</th>\n",
       "      <th>1990</th>\n",
       "      <td>95.760000</td>\n",
       "      <td>168.170002</td>\n",
       "      <td>313.089992</td>\n",
       "      <td>403.110050</td>\n",
       "      <td>430.289960</td>\n",
       "      <td>1410.420004</td>\n",
       "    </tr>\n",
       "  </tbody>\n",
       "</table>\n",
       "</div>"
      ],
      "text/plain": [
       "                              below 1.90$ a day  1.9 - 3.20$ a day  \\\n",
       "Entity                  Year                                         \n",
       "East Asia and Pacific   1980        3031.770019         899.469970   \n",
       "                        1990        3286.170044        1842.059940   \n",
       "                        2000        1204.160034        1436.589970   \n",
       "                        2010         654.759994        1549.719950   \n",
       "Europe and Central Asia 1990          95.760000         168.170002   \n",
       "\n",
       "                              3.20 - 5.50$ a day  5.50 - 10$ a day  \\\n",
       "Entity                  Year                                         \n",
       "East Asia and Pacific   1980          282.370000         95.569946   \n",
       "                        1990         1074.540050        425.349979   \n",
       "                        2000         1427.239990       1040.920040   \n",
       "                        2010         2465.939880       2766.590270   \n",
       "Europe and Central Asia 1990          313.089992        403.110050   \n",
       "\n",
       "                              above 10$ a day        total  \n",
       "Entity                  Year                                \n",
       "East Asia and Pacific   1980        48.860069  4358.040004  \n",
       "                        1990       187.190012  6815.310025  \n",
       "                        2000       574.529950  5683.439984  \n",
       "                        2010      2552.089810  9989.099904  \n",
       "Europe and Central Asia 1990       430.289960  1410.420004  "
      ]
     },
     "execution_count": 70,
     "metadata": {},
     "output_type": "execute_result"
    }
   ],
   "source": [
    "df.head()"
   ]
  },
  {
   "cell_type": "code",
   "execution_count": 71,
   "id": "coupled-converter",
   "metadata": {},
   "outputs": [],
   "source": [
    "for item, row in df.iterrows():\n",
    "    total = row[5]\n",
    "    for column, value in row.items():\n",
    "        row[column] = value/total"
   ]
  },
  {
   "cell_type": "code",
   "execution_count": 79,
   "id": "entertaining-percentage",
   "metadata": {},
   "outputs": [
    {
     "data": {
      "text/plain": [
       "Entity                 Year                    \n",
       "East Asia and Pacific  1980  below 1.90$ a day     0.695673\n",
       "                             1.9 - 3.20$ a day     0.206393\n",
       "                             3.20 - 5.50$ a day    0.064793\n",
       "                             5.50 - 10$ a day      0.021930\n",
       "                             above 10$ a day       0.011211\n",
       "dtype: float64"
      ]
     },
     "execution_count": 79,
     "metadata": {},
     "output_type": "execute_result"
    }
   ],
   "source": [
    "df.head()"
   ]
  },
  {
   "cell_type": "code",
   "execution_count": 73,
   "id": "dangerous-chapel",
   "metadata": {},
   "outputs": [],
   "source": [
    "df.drop(columns=[\"total\"], inplace=True)"
   ]
  },
  {
   "cell_type": "code",
   "execution_count": 78,
   "id": "covered-mexican",
   "metadata": {},
   "outputs": [],
   "source": [
    "df = df.stack()"
   ]
  },
  {
   "cell_type": "code",
   "execution_count": 80,
   "id": "floating-commonwealth",
   "metadata": {},
   "outputs": [],
   "source": [
    "df.to_csv(\"./data/final/poverty_thresholds.csv\")"
   ]
  },
  {
   "cell_type": "code",
   "execution_count": 90,
   "id": "developed-breakfast",
   "metadata": {},
   "outputs": [
    {
     "data": {
      "text/plain": [
       "Index(['East Asia and Pacific', 'Europe and Central Asia',\n",
       "       'Latin America and the Caribbean', 'Middle East and North Africa',\n",
       "       'North America', 'South Asia', 'Sub-Saharan Africa', 'World'],\n",
       "      dtype='object', name='Entity')"
      ]
     },
     "execution_count": 90,
     "metadata": {},
     "output_type": "execute_result"
    }
   ],
   "source": [
    "df.index.get_level_values('Entity').unique()"
   ]
  },
  {
   "cell_type": "code",
   "execution_count": null,
   "id": "floating-negative",
   "metadata": {},
   "outputs": [],
   "source": []
  }
 ],
 "metadata": {
  "kernelspec": {
   "display_name": "Python 3",
   "language": "python",
   "name": "python3"
  },
  "language_info": {
   "codemirror_mode": {
    "name": "ipython",
    "version": 3
   },
   "file_extension": ".py",
   "mimetype": "text/x-python",
   "name": "python",
   "nbconvert_exporter": "python",
   "pygments_lexer": "ipython3",
   "version": "3.8.2"
  }
 },
 "nbformat": 4,
 "nbformat_minor": 5
}
